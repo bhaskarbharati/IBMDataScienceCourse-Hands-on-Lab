{
 "cells": [
  {
   "cell_type": "markdown",
   "id": "f966283d-82f0-41b0-bf12-2f34e1c1004c",
   "metadata": {},
   "source": [
    "## String:\n",
    "* String in python are surrounded by single or double quotation marks "
   ]
  },
  {
   "cell_type": "code",
   "execution_count": 86,
   "id": "490fb4ff-05e9-4cb4-8816-e8e2372fc968",
   "metadata": {},
   "outputs": [
    {
     "name": "stdout",
     "output_type": "stream",
     "text": [
      "Hello all!\n"
     ]
    }
   ],
   "source": [
    "#Example:\n",
    "print(\"Hello all!\")"
   ]
  },
  {
   "cell_type": "markdown",
   "id": "1053ffe5-480b-492c-a14f-0c9f322473a9",
   "metadata": {},
   "source": [
    "## Slicing in String\n",
    "The following code will give an idea of slicing "
   ]
  },
  {
   "cell_type": "code",
   "execution_count": 4,
   "id": "b8484b08-a11e-4333-a08a-6fd5bb148712",
   "metadata": {},
   "outputs": [
    {
     "name": "stdout",
     "output_type": "stream",
     "text": [
      "Hlo\n"
     ]
    }
   ],
   "source": [
    "s1 = \"HelloWorld!\" #s1 hold the string value as HelloWorld!\n",
    "s2 = s1[0:5:2]\n",
    "print(s2)"
   ]
  },
  {
   "cell_type": "markdown",
   "id": "994b6e66-ed89-454b-978a-0f9cab5f929a",
   "metadata": {},
   "source": [
    "## String Concatenation \n",
    "This will give an idea for concating two strings "
   ]
  },
  {
   "cell_type": "code",
   "execution_count": 15,
   "id": "f6ef07c0-2345-4329-a7e5-f0b0cb8a4a08",
   "metadata": {},
   "outputs": [
    {
     "name": "stdout",
     "output_type": "stream",
     "text": [
      "Bhaskar Bharati is my full name\n"
     ]
    }
   ],
   "source": [
    "s1 = \"Bhaskar\"\n",
    "s1 = s1+\" Bharati\"\n",
    "print(s1+\" is my full name\") "
   ]
  },
  {
   "cell_type": "markdown",
   "id": "d0882dcd-274f-4b16-8e59-d2b953e3eb36",
   "metadata": {},
   "source": [
    "## Tuple \n",
    "* Tuple is defined as objects with data type 'tuple'\n",
    "* Tuple items are ordered (order wont change), unchangeable(immutable), and allow duplicate values\n"
   ]
  },
  {
   "cell_type": "code",
   "execution_count": 25,
   "id": "23e14bbd-95af-459d-bed9-46c4b35701f4",
   "metadata": {},
   "outputs": [
    {
     "name": "stdout",
     "output_type": "stream",
     "text": [
      "(1, 2, 'Apple', 'Ball', 1.0, 2.0)\n",
      "1\n",
      "2\n",
      "Apple\n",
      "Ball\n",
      "1.0\n",
      "2.0\n"
     ]
    }
   ],
   "source": [
    "#looping around the tuple \n",
    "tuple1 = (1,2,\"Apple\",\"Ball\",1.0,2.0)\n",
    "print(tuple1)\n",
    "for x in tuple1:\n",
    "    print(x)"
   ]
  },
  {
   "cell_type": "code",
   "execution_count": 27,
   "id": "223eff85-b5a6-48fc-a2ce-3ec417e3a644",
   "metadata": {},
   "outputs": [
    {
     "name": "stdout",
     "output_type": "stream",
     "text": [
      "(1, 2, 3, 'Apple', 'Ball', 'Cat')\n"
     ]
    }
   ],
   "source": [
    "#Merging two tuple values:\n",
    "tuple1 = (1,2,3)\n",
    "tuple2 = (\"Apple\",\"Ball\",\"Cat\")\n",
    "MergeTuple = tuple1+tuple2\n",
    "print(MergeTuple)"
   ]
  },
  {
   "cell_type": "markdown",
   "id": "cefc83a3-ccd7-4fa9-b14e-6436e257331a",
   "metadata": {},
   "source": [
    "## List\n",
    "* List is ordered, mutable and allow duplicate values"
   ]
  },
  {
   "cell_type": "code",
   "execution_count": 30,
   "id": "01a0e10d-ebda-4c74-b272-049ab32280b6",
   "metadata": {},
   "outputs": [
    {
     "name": "stdout",
     "output_type": "stream",
     "text": [
      "['apple', 'banana', 'cherry', 'orange']\n"
     ]
    }
   ],
   "source": [
    "#Adding List Items by using append() method:\n",
    "thislist = [\"apple\", \"banana\", \"cherry\"]\n",
    "thislist.append(\"orange\")\n",
    "print(thislist)"
   ]
  },
  {
   "cell_type": "code",
   "execution_count": 38,
   "id": "cb5ef73a-42be-47cd-9c9d-4604bd756dca",
   "metadata": {},
   "outputs": [
    {
     "name": "stdout",
     "output_type": "stream",
     "text": [
      "['apple', 'orange', 'banana', 'cherry']\n"
     ]
    }
   ],
   "source": [
    "#Adding List Items at any index by using insert() method:\n",
    "thislist = [\"apple\", \"banana\", \"cherry\"]\n",
    "thislist.insert(1,\"orange\") # insert(int,anyDatatypeValue).....insert take two arguments\n",
    "print(thislist)"
   ]
  },
  {
   "cell_type": "markdown",
   "id": "14b865de-330f-4257-b132-44967d457cfd",
   "metadata": {},
   "source": [
    "## List Comprehension:\n",
    "* List Comprehension offers a shorter syntax when you want to create a new list based on the values of an existing list"
   ]
  },
  {
   "cell_type": "markdown",
   "id": "3cc61888-1fdc-4962-92ac-7de8fdb42145",
   "metadata": {},
   "source": [
    "### Example:"
   ]
  },
  {
   "cell_type": "code",
   "execution_count": 45,
   "id": "f578ff5f-f396-4b71-8cc2-ba06644b7c06",
   "metadata": {},
   "outputs": [
    {
     "name": "stdout",
     "output_type": "stream",
     "text": [
      "['Toyota']\n",
      "['Toyota']\n"
     ]
    }
   ],
   "source": [
    "#This is the traditional way:\n",
    "cars = [\"Mercedes\", \"BMW\", \"Toyota\", \"Audi\"]\n",
    "newlist = [] #this will be the new list to store the desired values we want from the existing list(cars)\n",
    "\n",
    "for x in cars:\n",
    "    if \"a\" in x:\n",
    "        newlist.append(x)\n",
    "print(newlist) \n",
    "\n",
    "#Using List Comprehension:\n",
    "cars = [\"Mercedes\", \"BMW\", \"Toyota\", \"Audi\"]\n",
    "newlist = [x for x in cars if \"a\" in x]\n",
    "print(newlist) "
   ]
  },
  {
   "cell_type": "markdown",
   "id": "59fd00a7-7778-47e8-beb4-3b0d3253b4c9",
   "metadata": {},
   "source": [
    "## Dictionary:\n",
    "* Dictionary items are ordered, changeable, and dont allow duplicates.\n",
    "* Dictionary are written with curly brackets, and have keys and values.\n",
    "* Dictionary allows multiple Data types including list data types.   "
   ]
  },
  {
   "cell_type": "code",
   "execution_count": 48,
   "id": "e9736acb-349a-4279-b7bd-b651691b65cf",
   "metadata": {},
   "outputs": [
    {
     "name": "stdout",
     "output_type": "stream",
     "text": [
      "{'Make': 'Toyota', 'Model': 'Camry', 'Year': 2015}\n"
     ]
    }
   ],
   "source": [
    "#create and print dictionary values:\n",
    "thisdict = {\"Make\":\"Toyota\", \"Model\":\"Camry\",\"Year\":2015}\n",
    "print(thisdict)"
   ]
  },
  {
   "cell_type": "code",
   "execution_count": 62,
   "id": "018dd0c1-bca0-4ea8-a107-da2663e3200b",
   "metadata": {},
   "outputs": [
    {
     "name": "stdout",
     "output_type": "stream",
     "text": [
      "{'Make': 'Toyota', 'year': 2015, 'colors': ['silver', 'brown', 'black']}\n",
      "Toyota\n"
     ]
    }
   ],
   "source": [
    "#Example: Dictionary support different Data Types including List:\n",
    "thisdict = { \"Make\": \"Toyota\",\"year\": 2015,\"colors\":[\"silver\",\"brown\",\"black\"]}\n",
    "print(thisdict)\n",
    "\n",
    "#can access the value with key name:\n",
    "print(thisdict[\"Make\"]) #With key name \"Make\" it return the value Toyota\n",
    "#or also can use get() and or keys() methods "
   ]
  },
  {
   "cell_type": "code",
   "execution_count": 58,
   "id": "8a52e0f8-2475-4fd9-86ae-5fe4e49819aa",
   "metadata": {},
   "outputs": [
    {
     "name": "stdout",
     "output_type": "stream",
     "text": [
      "{'Make': 'Toyota', 'Model': 'Camry', 'Year': 2015}\n",
      "{'Make': 'Toyota', 'Model': 'Camry', 'Year': 2015, 'Color': 'Silver'}\n"
     ]
    }
   ],
   "source": [
    "#Example: Adding items in the dictionary:\n",
    "thisdict = {\"Make\":\"Toyota\", \"Model\":\"Camry\",\"Year\":2015}\n",
    "print(thisdict) #before changing or existing values\n",
    "\n",
    "thisdict[\"Color\"]=\"Silver\"\n",
    "print(thisdict) #after adding new key and value \n",
    "\n",
    "#Note: Dictionary is Mutable datatype\n"
   ]
  },
  {
   "cell_type": "code",
   "execution_count": 66,
   "id": "6c41102e-ecd7-4dec-a0d1-aeba974aa19c",
   "metadata": {},
   "outputs": [
    {
     "name": "stdout",
     "output_type": "stream",
     "text": [
      "Make\n",
      "Model\n",
      "Year\n",
      "Toyota\n",
      "Camry\n",
      "2015\n"
     ]
    }
   ],
   "source": [
    "#Example: Loop Dictionaries\n",
    "thisdict = {\"Make\":\"Toyota\", \"Model\":\"Camry\",\"Year\":2015}\n",
    "\n",
    "for x in thisdict:\n",
    "    print(x) #will print the key names\n",
    "\n",
    "for x in thisdict:\n",
    "    print(thisdict[x]) #will print the value names \n"
   ]
  },
  {
   "cell_type": "code",
   "execution_count": 84,
   "id": "42a03133-d8b7-41b7-8fc9-924fda574e73",
   "metadata": {},
   "outputs": [
    {
     "name": "stdout",
     "output_type": "stream",
     "text": [
      "car1\n",
      "{'model': 'Honda', 'year': 1999}\n",
      "car2\n",
      "{'model': 'Corolla', 'year': 2003}\n",
      "car3\n",
      "{'model': 'Camry', 'year': 2015}\n"
     ]
    }
   ],
   "source": [
    "#Nested Loop \n",
    "mycar = {\n",
    "  \"car1\" : {\n",
    "    \"model\" : \"Honda\",\n",
    "    \"year\" : 1999\n",
    "  },\n",
    "  \"car2\" : {\n",
    "    \"model\" : \"Corolla\",\n",
    "    \"year\" : 2003\n",
    "  },\n",
    "  \"car3\" : {\n",
    "    \"model\" : \"Camry\",\n",
    "    \"year\" : 2015\n",
    "  }\n",
    "}\n",
    "\n",
    "\n",
    "for x in mycar:\n",
    "    print(x)\n",
    "    print(mycar[x])"
   ]
  },
  {
   "cell_type": "code",
   "execution_count": null,
   "id": "52b10472-6e2d-43b1-ac8a-c8485f26e817",
   "metadata": {},
   "outputs": [],
   "source": []
  }
 ],
 "metadata": {
  "kernelspec": {
   "display_name": "Python [conda env:base] *",
   "language": "python",
   "name": "conda-base-py"
  },
  "language_info": {
   "codemirror_mode": {
    "name": "ipython",
    "version": 3
   },
   "file_extension": ".py",
   "mimetype": "text/x-python",
   "name": "python",
   "nbconvert_exporter": "python",
   "pygments_lexer": "ipython3",
   "version": "3.12.7"
  }
 },
 "nbformat": 4,
 "nbformat_minor": 5
}
